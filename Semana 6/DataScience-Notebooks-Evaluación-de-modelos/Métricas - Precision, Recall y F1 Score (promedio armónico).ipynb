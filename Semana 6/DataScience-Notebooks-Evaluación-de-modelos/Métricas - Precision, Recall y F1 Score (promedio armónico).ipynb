{
 "cells": [
  {
   "cell_type": "markdown",
   "id": "3d77ee50",
   "metadata": {},
   "source": [
    "# Previsión de personas con diabetes"
   ]
  },
  {
   "cell_type": "code",
   "execution_count": 9,
   "id": "2b2f6a7d",
   "metadata": {},
   "outputs": [],
   "source": [
    "import warnings\n",
    "import pandas as pd\n",
    "from sklearn import model_selection\n",
    "from sklearn.linear_model import LogisticRegression\n",
    "from sklearn.metrics import log_loss\n",
    "from sklearn.metrics import precision_recall_fscore_support as score, precision_score, recall_score, f1_score"
   ]
  },
  {
   "cell_type": "markdown",
   "id": "381b204d",
   "metadata": {},
   "source": [
    "[Pima Indians Dataset - Kaggle](https://www.kaggle.com/kumargh/pimaindiansdiabetescsv)\n",
    "\n",
    "Este conjunto de datos describe los registros médicos de los indios Pima y si cada paciente tendrá o no un inicio de diabetes dentro de los cinco años.\n",
    "\n",
    "La descripción de los campos sigue:\n",
    "- preg = Número de veces embarazada\n",
    "- plas = Concentración de glucosa en plasma a 2 horas en una prueba de tolerancia a la glucosa oral\n",
    "- pres = presión arterial diastólica (mm Hg)\n",
    "- piel = grosor del pliegue cutáneo del tríceps (mm)\n",
    "- prueba = insulina sérica de 2 horas (mu U / ml)\n",
    "- masa = índice de masa corporal (peso en kg / (altura en m) ^ 2)\n",
    "- pedi = función del pedigrí de la diabetes\n",
    "- age = Edad (años)\n",
    "- class = Variable de clase (1: dio positivo en la prueba de diabetes, 0: dio negativo en la prueba de diabetes)"
   ]
  },
  {
   "cell_type": "code",
   "execution_count": 11,
   "id": "3a38344c",
   "metadata": {},
   "outputs": [],
   "source": [
    "warnings.filterwarnings('ignore')\n",
    "\n",
    "url = \"https://raw.githubusercontent.com/jbrownlee/Datasets/master/pima-indians-diabetes.data.csv\"\n",
    "dataframe = pandas.read_csv(url)\n",
    "dat = dataframe.values"
   ]
  },
  {
   "cell_type": "code",
   "execution_count": 40,
   "id": "0839d68f",
   "metadata": {},
   "outputs": [
    {
     "data": {
      "text/html": [
       "<div>\n",
       "<style scoped>\n",
       "    .dataframe tbody tr th:only-of-type {\n",
       "        vertical-align: middle;\n",
       "    }\n",
       "\n",
       "    .dataframe tbody tr th {\n",
       "        vertical-align: top;\n",
       "    }\n",
       "\n",
       "    .dataframe thead th {\n",
       "        text-align: right;\n",
       "    }\n",
       "</style>\n",
       "<table border=\"1\" class=\"dataframe\">\n",
       "  <thead>\n",
       "    <tr style=\"text-align: right;\">\n",
       "      <th></th>\n",
       "      <th>preg</th>\n",
       "      <th>plas</th>\n",
       "      <th>pres</th>\n",
       "      <th>piel</th>\n",
       "      <th>prueba</th>\n",
       "      <th>masa</th>\n",
       "      <th>pedi</th>\n",
       "      <th>age</th>\n",
       "      <th>class</th>\n",
       "    </tr>\n",
       "  </thead>\n",
       "  <tbody>\n",
       "    <tr>\n",
       "      <th>0</th>\n",
       "      <td>1.0</td>\n",
       "      <td>85.0</td>\n",
       "      <td>66.0</td>\n",
       "      <td>29.0</td>\n",
       "      <td>0.0</td>\n",
       "      <td>26.6</td>\n",
       "      <td>0.351</td>\n",
       "      <td>31.0</td>\n",
       "      <td>0.0</td>\n",
       "    </tr>\n",
       "    <tr>\n",
       "      <th>1</th>\n",
       "      <td>8.0</td>\n",
       "      <td>183.0</td>\n",
       "      <td>64.0</td>\n",
       "      <td>0.0</td>\n",
       "      <td>0.0</td>\n",
       "      <td>23.3</td>\n",
       "      <td>0.672</td>\n",
       "      <td>32.0</td>\n",
       "      <td>1.0</td>\n",
       "    </tr>\n",
       "    <tr>\n",
       "      <th>2</th>\n",
       "      <td>1.0</td>\n",
       "      <td>89.0</td>\n",
       "      <td>66.0</td>\n",
       "      <td>23.0</td>\n",
       "      <td>94.0</td>\n",
       "      <td>28.1</td>\n",
       "      <td>0.167</td>\n",
       "      <td>21.0</td>\n",
       "      <td>0.0</td>\n",
       "    </tr>\n",
       "    <tr>\n",
       "      <th>3</th>\n",
       "      <td>0.0</td>\n",
       "      <td>137.0</td>\n",
       "      <td>40.0</td>\n",
       "      <td>35.0</td>\n",
       "      <td>168.0</td>\n",
       "      <td>43.1</td>\n",
       "      <td>2.288</td>\n",
       "      <td>33.0</td>\n",
       "      <td>1.0</td>\n",
       "    </tr>\n",
       "    <tr>\n",
       "      <th>4</th>\n",
       "      <td>5.0</td>\n",
       "      <td>116.0</td>\n",
       "      <td>74.0</td>\n",
       "      <td>0.0</td>\n",
       "      <td>0.0</td>\n",
       "      <td>25.6</td>\n",
       "      <td>0.201</td>\n",
       "      <td>30.0</td>\n",
       "      <td>0.0</td>\n",
       "    </tr>\n",
       "  </tbody>\n",
       "</table>\n",
       "</div>"
      ],
      "text/plain": [
       "   preg   plas  pres  piel  prueba  masa   pedi   age  class\n",
       "0   1.0   85.0  66.0  29.0     0.0  26.6  0.351  31.0    0.0\n",
       "1   8.0  183.0  64.0   0.0     0.0  23.3  0.672  32.0    1.0\n",
       "2   1.0   89.0  66.0  23.0    94.0  28.1  0.167  21.0    0.0\n",
       "3   0.0  137.0  40.0  35.0   168.0  43.1  2.288  33.0    1.0\n",
       "4   5.0  116.0  74.0   0.0     0.0  25.6  0.201  30.0    0.0"
      ]
     },
     "execution_count": 40,
     "metadata": {},
     "output_type": "execute_result"
    }
   ],
   "source": [
    "df= pd.DataFrame(dat, columns = ['preg','plas','pres','piel','prueba','masa','pedi','age','class'])\n",
    "df.head()"
   ]
  },
  {
   "cell_type": "code",
   "execution_count": 32,
   "id": "4e23fba6",
   "metadata": {},
   "outputs": [
    {
     "data": {
      "text/plain": [
       "(767, 9)"
      ]
     },
     "execution_count": 32,
     "metadata": {},
     "output_type": "execute_result"
    }
   ],
   "source": [
    "df.shape"
   ]
  },
  {
   "cell_type": "code",
   "execution_count": 12,
   "id": "1b46569f",
   "metadata": {},
   "outputs": [],
   "source": [
    "X = dat[:,:-1]\n",
    "y = dat[:,-1]"
   ]
  },
  {
   "cell_type": "code",
   "execution_count": null,
   "id": "8dd7d256",
   "metadata": {},
   "outputs": [],
   "source": [
    "test_size = 0.33\n",
    "seed = 7"
   ]
  },
  {
   "cell_type": "code",
   "execution_count": 4,
   "id": "93ac7e14",
   "metadata": {},
   "outputs": [],
   "source": [
    "model = LogisticRegression()\n",
    "#split data\n",
    "X_train, X_test, y_train, y_test = model_selection.train_test_split(X, y, test_size=test_size, random_state=seed)\n",
    "model.fit(X_train, y_train)\n",
    "pred = model.predict(X_test)"
   ]
  },
  {
   "cell_type": "code",
   "execution_count": 49,
   "id": "738a44ad",
   "metadata": {},
   "outputs": [
    {
     "data": {
      "text/plain": [
       "1.0"
      ]
     },
     "execution_count": 49,
     "metadata": {},
     "output_type": "execute_result"
    }
   ],
   "source": [
    "y_test[1]"
   ]
  },
  {
   "cell_type": "code",
   "execution_count": 61,
   "id": "0a879963",
   "metadata": {},
   "outputs": [
    {
     "data": {
      "text/html": [
       "<div>\n",
       "<style scoped>\n",
       "    .dataframe tbody tr th:only-of-type {\n",
       "        vertical-align: middle;\n",
       "    }\n",
       "\n",
       "    .dataframe tbody tr th {\n",
       "        vertical-align: top;\n",
       "    }\n",
       "\n",
       "    .dataframe thead th {\n",
       "        text-align: right;\n",
       "    }\n",
       "</style>\n",
       "<table border=\"1\" class=\"dataframe\">\n",
       "  <thead>\n",
       "    <tr style=\"text-align: right;\">\n",
       "      <th></th>\n",
       "      <th>0</th>\n",
       "      <th>1</th>\n",
       "      <th>2</th>\n",
       "      <th>3</th>\n",
       "      <th>4</th>\n",
       "      <th>5</th>\n",
       "      <th>6</th>\n",
       "      <th>7</th>\n",
       "    </tr>\n",
       "  </thead>\n",
       "  <tbody>\n",
       "    <tr>\n",
       "      <th>0</th>\n",
       "      <td>0.0</td>\n",
       "      <td>179.0</td>\n",
       "      <td>90.0</td>\n",
       "      <td>27.0</td>\n",
       "      <td>0.0</td>\n",
       "      <td>44.1</td>\n",
       "      <td>0.686</td>\n",
       "      <td>23.0</td>\n",
       "    </tr>\n",
       "  </tbody>\n",
       "</table>\n",
       "</div>"
      ],
      "text/plain": [
       "     0      1     2     3    4     5      6     7\n",
       "0  0.0  179.0  90.0  27.0  0.0  44.1  0.686  23.0"
      ]
     },
     "execution_count": 61,
     "metadata": {},
     "output_type": "execute_result"
    }
   ],
   "source": [
    "persona1 = pd.DataFrame(X_test[1])\n",
    "persona1.transpose()"
   ]
  },
  {
   "cell_type": "code",
   "execution_count": 62,
   "id": "9db6b6c0",
   "metadata": {},
   "outputs": [
    {
     "data": {
      "text/plain": [
       "array([1.])"
      ]
     },
     "execution_count": 62,
     "metadata": {},
     "output_type": "execute_result"
    }
   ],
   "source": [
    "model.predict(persona1.transpose())"
   ]
  },
  {
   "cell_type": "code",
   "execution_count": 52,
   "id": "696c8243",
   "metadata": {},
   "outputs": [
    {
     "name": "stdout",
     "output_type": "stream",
     "text": [
      "     preg   plas  pres  piel  prueba  masa   pedi   age  class\n",
      "764   5.0  121.0  72.0  23.0   112.0  26.2  0.245  30.0    0.0\n"
     ]
    },
    {
     "data": {
      "text/plain": [
       "array([0.])"
      ]
     },
     "execution_count": 52,
     "metadata": {},
     "output_type": "execute_result"
    }
   ],
   "source": [
    "persona1 = df.iloc[764:765,:-1]\n",
    "real = df.iloc[764:765,:]\n",
    "print(real)\n",
    "model.predict(persona1)"
   ]
  },
  {
   "cell_type": "code",
   "execution_count": 64,
   "id": "5fb3d25b",
   "metadata": {},
   "outputs": [
    {
     "name": "stdout",
     "output_type": "stream",
     "text": [
      "Precision: 70.15%\n",
      "Recall: 55.29%\n",
      "F1 score: 61.84%\n"
     ]
    }
   ],
   "source": [
    "precision = precision_score(y_test, pred)\n",
    "print('Precision: %.2f%%' % (precision*100.0))\n",
    "# recall: tp / (tp + fn)\n",
    "recall = recall_score(y_test, pred)\n",
    "print('Recall: %.2f%%' % (recall*100.0))\n",
    "# f1: tp / (tp + fp + fn)\n",
    "f1 = f1_score(y_test, pred)\n",
    "print('F1 score: %.2f%%' % (f1*100.0))"
   ]
  }
 ],
 "metadata": {
  "kernelspec": {
   "display_name": "Python 3",
   "language": "python",
   "name": "python3"
  },
  "language_info": {
   "codemirror_mode": {
    "name": "ipython",
    "version": 3
   },
   "file_extension": ".py",
   "mimetype": "text/x-python",
   "name": "python",
   "nbconvert_exporter": "python",
   "pygments_lexer": "ipython3",
   "version": "3.8.8"
  }
 },
 "nbformat": 4,
 "nbformat_minor": 5
}
