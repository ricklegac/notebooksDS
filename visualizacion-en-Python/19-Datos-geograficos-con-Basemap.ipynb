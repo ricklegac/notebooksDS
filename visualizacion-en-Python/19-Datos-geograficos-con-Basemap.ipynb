{
 "cells": [
  {
   "cell_type": "markdown",
   "metadata": {},
   "source": [
    "# Geographic Data with Basemap"
   ]
  },
  {
   "cell_type": "markdown",
   "metadata": {},
   "source": [
    "Un tipo común de visualización en ciencia de datos es el de datos geográficos.\n",
    "La herramienta principal de Matplotlib para este tipo de visualización es el kit de herramientas Basemap, que es uno de los varios kits de herramientas de Matplotlib que se encuentran bajo el espacio de nombres ``mpl_toolkits``.\n",
    "Basemap es un poco torpe de usar, y a menudo incluso las visualizaciones simples toman mucho más tiempo de lo esperado.\n",
    "Las soluciones más modernas como las API de Google Maps pueden ser una mejor opción para visualizaciones de mapas.\n",
    "Aún así, Basemap es una herramienta útil para que los usuarios de Python tengan como una de las herramientas virtuales.\n",
    "\n",
    "\n",
    "La instalación de Basemap es sencilla; si está utilizando conda, puede escribir esto y se descargará el paquete:\n",
    "\n",
    "`` `\n",
    "$ conda install basemap\n",
    "`` `\n",
    "\n",
    "Agregamos solo una nueva importación a nuestra plantilla estándar:"
   ]
  },
  {
   "cell_type": "code",
   "execution_count": null,
   "metadata": {},
   "outputs": [],
   "source": [
    "%matplotlib inline\n",
    "import numpy as np\n",
    "import matplotlib.pyplot as plt\n",
    "from mpl_toolkits.basemap import Basemap"
   ]
  },
  {
   "cell_type": "markdown",
   "metadata": {},
   "source": [
    "Los gráficos a continuación también requieren el paquete ``PIL`` en Python 2, o el paquete ``pillow`` en Python 3:"
   ]
  },
  {
   "cell_type": "code",
   "execution_count": null,
   "metadata": {},
   "outputs": [],
   "source": [
    "plt.figure(figsize=(8, 8))\n",
    "m = Basemap(projection='ortho', resolution=None, lat_0=50, lon_0=-100)\n",
    "m.bluemarble(scale=0.5);"
   ]
  },
  {
   "cell_type": "markdown",
   "metadata": {},
   "source": [
    "El significado de los argumentos de `` Basemap``  se discutirá momentáneamente. \n",
    "\n",
    "Lo útil es que el globo que se muestra aquí no es una mera imagen; ¡Es un eje Matplotlib totalmente funcional que comprende las coordenadas esféricas y que nos permite superponer fácilmente los datos en el mapa!\n",
    "\n",
    "Por ejemplo, podemos usar una proyección de mapa diferente, acercarnos a Norteamérica y trazar la ubicación de Seattle.Usaremos una imagen etopo (que muestra características topográficas tanto en tierra como debajo del océano) como fondo del mapa:"
   ]
  },
  {
   "cell_type": "code",
   "execution_count": null,
   "metadata": {},
   "outputs": [],
   "source": [
    "fig = plt.figure(figsize=(8, 8))\n",
    "m = Basemap(projection='lcc', resolution=None,\n",
    "            width=8E6, height=8E6, \n",
    "            lat_0=45, lon_0=-100,)\n",
    "m.etopo(scale=0.5, alpha=0.5)\n",
    "\n",
    "# Map (long, lat) to (x, y) for plotting\n",
    "x, y = m(-122.3, 47.6)\n",
    "plt.plot(x, y, 'ok', markersize=5)\n",
    "plt.text(x, y, ' Seattle', fontsize=12);"
   ]
  },
  {
   "cell_type": "markdown",
   "metadata": {},
   "source": [
    "Esto le brinda una breve visión del tipo de visualizaciones geográficas que son posibles con solo unas pocas líneas de Python.\n",
    "Ahora discutiremos las características de Basemap con más profundidad y proporcionaremos varios ejemplos de visualización de datos de mapas.\n",
    "Usando estos breves ejemplos como bloques de construcción, debería poder crear casi cualquier visualización de mapa que desee."
   ]
  },
  {
   "cell_type": "markdown",
   "metadata": {},
   "source": [
    "## Map Projections\n",
    "\n",
    "Lo primero que debe decidir al usar mapas es qué proyección usar.\n",
    "Probablemente esté familiarizado con el hecho de que es imposible proyectar un mapa esférico, como el de la Tierra, sobre una superficie plana sin distorsionarlo o romper su continuidad.\n",
    "Estas proyecciones se han desarrollado a lo largo de la historia humana, ¡y hay muchas opciones!\n",
    "Dependiendo del uso previsto de la proyección del mapa, hay ciertas características del mapa (por ejemplo, dirección, área, distancia, forma u otras consideraciones) que son útiles para mantener.\n",
    "\n",
    "El paquete Basemap implementa varias docenas de tales proyecciones, todas referenciadas por un código de formato corto.\n",
    "Aquí demostraremos brevemente algunos de los más comunes.\n",
    "\n",
    "Comenzaremos definiendo una rutina de conveniencia para dibujar nuestro mapa mundial junto con las líneas de longitud y latitud:"
   ]
  },
  {
   "cell_type": "code",
   "execution_count": null,
   "metadata": {},
   "outputs": [],
   "source": [
    "from itertools import chain\n",
    "\n",
    "def draw_map(m, scale=0.2):\n",
    "    # draw a shaded-relief image\n",
    "    m.shadedrelief(scale=scale)\n",
    "    \n",
    "    # lats and longs are returned as a dictionary\n",
    "    lats = m.drawparallels(np.linspace(-90, 90, 13))\n",
    "    lons = m.drawmeridians(np.linspace(-180, 180, 13))\n",
    "\n",
    "    # keys contain the plt.Line2D instances\n",
    "    lat_lines = chain(*(tup[1][0] for tup in lats.items()))\n",
    "    lon_lines = chain(*(tup[1][0] for tup in lons.items()))\n",
    "    all_lines = chain(lat_lines, lon_lines)\n",
    "    \n",
    "    # cycle through these lines and set the desired style\n",
    "    for line in all_lines:\n",
    "        line.set(linestyle='-', alpha=0.3, color='w')"
   ]
  },
  {
   "cell_type": "markdown",
   "metadata": {},
   "source": [
    "### Cylindrical projections\n",
    "\n",
    "Las proyecciones de mapas más simples son las proyecciones cilíndricas, en las que las líneas de latitud y longitud constantes se asignan a líneas horizontales y verticales, respectivamente. Este tipo de mapeo representa regiones ecuatoriales bastante bien, pero produce distorsiones extremas cerca de los polos.El espaciado de las líneas de latitud varía entre diferentes proyecciones cilíndricas, lo que lleva a diferentes propiedades de conservación y a una distorsión diferente cerca de los polos. \n",
    "\n",
    "En la siguiente figura mostramos un ejemplo de la *proyección cilíndrica equidistante*, que elige una escala de latitud que preserva las distancias a lo largo de los meridianos. \n",
    "\n",
    "Otras proyecciones cilíndricas son las proyecciones de Mercator (``proyección = 'merc' ``) y las proyecciones cilíndricas de igual área (`` proyección = 'cea' ``)."
   ]
  },
  {
   "cell_type": "code",
   "execution_count": null,
   "metadata": {},
   "outputs": [],
   "source": [
    "fig = plt.figure(figsize=(8, 6), edgecolor='w')\n",
    "m = Basemap(projection='cyl', resolution=None,\n",
    "            llcrnrlat=-90, urcrnrlat=90,\n",
    "            llcrnrlon=-180, urcrnrlon=180, )\n",
    "draw_map(m)"
   ]
  },
  {
   "cell_type": "markdown",
   "metadata": {},
   "source": [
    "Los argumentos adicionales para Basemap para esta vista especifican la latitud (`` lat``) y la longitud (`` lon``) de la esquina inferior izquierda (`` llcrnr``) y la esquina superior derecha (`` urcrnr``) para el mapa deseado, en unidades de grados."
   ]
  },
  {
   "cell_type": "markdown",
   "metadata": {},
   "source": [
    "### Pseudo-cylindrical projections\n",
    "\n",
    "Las proyecciones pseudo-cilíndricas relajan el requisito de que los meridianos (líneas de longitud constante) permanezcan verticales; Esto puede dar mejores propiedades cerca de los polos de la proyección.\n",
    "La proyección de Mollweide (`` proyección = 'moll' ``) es un ejemplo común de esto, en el que todos los meridianos son arcos elípticos.\n",
    "Está construido para preservar el área del mapa: aunque hay distorsiones cerca de los polos, el área de pequeños parches refleja el área real.\n",
    "Otras proyecciones pseudo-cilíndricas son las proyecciones sinusoidales (`` proyección = 'sinu' ``) y Robinson (`` proyección = 'robin' ``)."
   ]
  },
  {
   "cell_type": "code",
   "execution_count": null,
   "metadata": {},
   "outputs": [],
   "source": [
    "fig = plt.figure(figsize=(8, 6), edgecolor='w')\n",
    "m = Basemap(projection='moll', resolution=None,\n",
    "            lat_0=0, lon_0=0)\n",
    "draw_map(m)"
   ]
  },
  {
   "cell_type": "markdown",
   "metadata": {},
   "source": [
    "Los argumentos adicionales para Basemap aquí se refieren a la latitud central (`` lat_0``) y la longitud (`` lon_0``) para el mapa deseado."
   ]
  },
  {
   "cell_type": "markdown",
   "metadata": {},
   "source": [
    "### Perspective projections\n",
    "\n",
    "Las proyecciones de perspectiva se construyen usando una opción particular de punto de perspectiva, similar a si fotografiaras la Tierra desde un punto particular en el espacio (un punto que, para algunas proyecciones, técnicamente se encuentra dentro de la Tierra).\n",
    "Un ejemplo común es la proyección ortográfica (`` proyección = 'orto' ``), que muestra un lado del globo visto desde un espectador a una distancia muy larga. Como tal, puede mostrar solo la mitad del globo a la vez.\n",
    "Otras proyecciones basadas en perspectiva incluyen la proyección gnomónica (`` proyección = 'gnom' ``) y la proyección estereográfica (`` proyección = 'stere' ``).\n",
    "Estos suelen ser los más útiles para mostrar pequeñas porciones del mapa.\n",
    "\n",
    "Aquí hay un ejemplo de la proyección ortográfica:"
   ]
  },
  {
   "cell_type": "code",
   "execution_count": null,
   "metadata": {},
   "outputs": [],
   "source": [
    "fig = plt.figure(figsize=(8, 8))\n",
    "m = Basemap(projection='ortho', resolution=None,\n",
    "            lat_0=50, lon_0=0)\n",
    "draw_map(m);"
   ]
  },
  {
   "cell_type": "markdown",
   "metadata": {},
   "source": [
    "### Conic projections\n",
    "\n",
    "Una proyección cónica proyecta el mapa en un solo cono, que luego se desenrolla.\n",
    "Esto puede conducir a propiedades locales muy buenas, pero las regiones alejadas del punto de enfoque del cono pueden distorsionarse mucho.\n",
    "Un ejemplo de esto es la proyección cónica conforme de Lambert (`` proyección = 'lcc' ``), que vimos anteriormente en el mapa de América del Norte.\n",
    "Proyecta el mapa en un cono dispuesto de tal manera que dos paralelos estándar (especificados en el Mapa base por `` lat_1`` y `` lat_2``) tienen distancias bien representadas, con una escala que disminuye entre ellos y aumenta fuera de ellos.\n",
    "Otras proyecciones cónicas útiles son la proyección cónica equidistante (`` proyección = 'eqdc' ``) y la proyección de área igual de Albers (`` proyección = 'aea' ``).\n",
    "Las proyecciones cónicas, como las proyecciones en perspectiva, tienden a ser buenas opciones para representar parches pequeños o medianos del globo."
   ]
  },
  {
   "cell_type": "code",
   "execution_count": null,
   "metadata": {},
   "outputs": [],
   "source": [
    "fig = plt.figure(figsize=(8, 8))\n",
    "m = Basemap(projection='lcc', resolution=None,\n",
    "            lon_0=0, lat_0=50, lat_1=45, lat_2=55,\n",
    "            width=1.6E7, height=1.2E7)\n",
    "draw_map(m)"
   ]
  },
  {
   "cell_type": "markdown",
   "metadata": {},
   "source": [
    "### Other projections\n",
    "\n",
    "Si va a utilizar mucho visualizaciones basadas en mapas, le recomiendo que lea sobre otras proyecciones disponibles, junto con sus propiedades, ventajas y desventajas.\n",
    "Lo más probable es que estén disponibles en el [Paquete de mapa base](http://matplotlib.org/basemap/users/mapsetup.html)."
   ]
  },
  {
   "cell_type": "markdown",
   "metadata": {},
   "source": [
    "## Dibujar un mapa como fondo\n",
    "\n",
    "Anteriormente vimos los métodos `` bluemarble () `` y `` shadedrelief () `` para proyectar imágenes globales en el mapa, así como los métodos `` drawparallels () `` y `` drawmeridians () `` para dibujar líneas de latitud y longitud constantes.\n",
    "El paquete de Basemap contiene una gama de funciones útiles para dibujar fronteras de características físicas como continentes, océanos, lagos y ríos, así como límites políticos como países y estados y condados de EE. UU.\n",
    "Las siguientes son algunas de las funciones de dibujo disponibles que puede explorar utilizando las funciones de ayuda de IPython:\n",
    "\n",
    "- ** Límites físicos y cuerpos de agua **\n",
    "  - `` drawcoastlines () ``: dibuja líneas de costa continental\n",
    "  - `` drawlsmask () ``: dibuja una máscara entre la tierra y el mar, para usar con la proyección de imágenes en uno u otro\n",
    "  - `` drawmapboundary () ``: dibuja el límite del mapa, incluido el color de relleno para los océanos.\n",
    "  - `` drawrivers () ``: dibuja ríos en el mapa\n",
    "  - `` fillcontinents () ``: Rellena los continentes con un color dado; opcionalmente llenar lagos con otro color\n",
    "\n",
    "- ** Límites políticos **\n",
    "  - `` drawcountries () ``: dibuja los límites del país\n",
    "  - `` drawstates () ``: dibuja los límites del estado de EE. UU.\n",
    "  - `` drawcounties () ``: dibuja los límites de los condados de EE. UU.\n",
    "\n",
    "- ** Características del mapa **\n",
    "  - `` drawgreatcircle () ``: dibuja un gran círculo entre dos puntos\n",
    "  - `` drawparallels () ``: Dibuja líneas de latitud constante\n",
    "  - `` drawmeridians () ``: dibuja líneas de longitud constante\n",
    "  - `` drawmapscale () ``: dibuja una escala lineal en el mapa\n",
    "\n",
    "- ** Imágenes de globo completo **\n",
    "  - `` bluemarble () ``: proyecte la imagen de mármol azul de la NASA en el mapa\n",
    "  - `` sombreado () '': proyecta una imagen de relieve sombreada en el mapa\n",
    "  - `` etopo () ``: dibuja una imagen de relieve de etopo en el mapa\n",
    "  - `` warpimage () ``: proyecta una imagen proporcionada por el usuario en el mapa\n",
    "\n",
    "Para las características basadas en límites, debe establecer la resolución deseada al crear una imagen de mapa base.\n",
    "El argumento `` resolución `` de la clase `` Basemap `` establece el nivel de detalle en los límites, ya sea `` 'c'`` (crudo), ``' l'`` (bajo), `` 'i `` '(intermedio), ``' h'`` (alto), `` 'f' `` (completo) o `` Ninguno `` si no se utilizarán límites.\n",
    "Esta elección es importante: establecer límites de alta resolución en un mapa global, por ejemplo, puede ser *muy* lento.\n",
    "\n",
    "Aquí hay un ejemplo de cómo dibujar límites terrestres / marítimos y el efecto del parámetro de resolución.\n",
    "Crearemos un mapa de baja y alta resolución de la hermosa isla de Skye en Escocia.\n",
    "Está ubicado a 57.3 ° N, 6.2 ° O, y un mapa de 90,000 × 120,000 kilómetros lo muestra bien:"
   ]
  },
  {
   "cell_type": "code",
   "execution_count": null,
   "metadata": {},
   "outputs": [],
   "source": [
    "fig, ax = plt.subplots(1, 2, figsize=(12, 8))\n",
    "\n",
    "for i, res in enumerate(['l', 'h']):\n",
    "    m = Basemap(projection='gnom', lat_0=57.3, lon_0=-6.2,\n",
    "                width=90000, height=120000, resolution=res, ax=ax[i])\n",
    "    m.fillcontinents(color=\"#FFDDCC\", lake_color='#DDEEFF')\n",
    "    m.drawmapboundary(fill_color=\"#DDEEFF\")\n",
    "    m.drawcoastlines()\n",
    "    ax[i].set_title(\"resolution='{0}'\".format(res));"
   ]
  },
  {
   "cell_type": "markdown",
   "metadata": {},
   "source": [
    "Tenga en cuenta que las costas de baja resolución no son adecuadas para este nivel de zoom, mientras que la alta resolución funciona bien.\n",
    "Sin embargo, el nivel bajo funcionaría bien para una vista global y sería *mucho* más rápido que cargar los datos de borde de alta resolución para todo el mundo.\n",
    "Puede que sea necesario experimentar un poco para encontrar el parámetro de resolución correcto para una vista determinada: la mejor ruta es comenzar con un trazado rápido y de baja resolución y aumentar la resolución según sea necesario."
   ]
  },
  {
   "cell_type": "markdown",
   "metadata": {},
   "source": [
    "## Plotting Data on Maps\n",
    "\n",
    "Quizás la pieza más útil del kit de herramientas de Basemap es la capacidad de sobregraficar una variedad de datos en un fondo de mapa.\n",
    "Para trazado y texto simples, cualquier función `` plt`` funciona en el mapa; puede usar la instancia de `` Basemap `` para proyectar las coordenadas de latitud y longitud a las coordenadas `` (x, y) `` para trazar con `` plt``, como vimos anteriormente en el ejemplo de Seattle.\n",
    "\n",
    "Además de esto, hay muchas funciones específicas de mapas disponibles como métodos de la instancia de `` Basemap ``.\n",
    "Estos funcionan de manera muy similar a sus contrapartes estándar de Matplotlib, pero tienen un argumento booleano adicional `` latlon``, que si se establece en `` True `` le permite pasar latitudes y longitudes sin procesar al método, en lugar de proyectarse `` (x , y) `` coordenadas.\n",
    "\n",
    "Algunos de estos métodos específicos del mapa son:\n",
    "\n",
    "- `` contour () `` / `` contourf () ``: dibuja líneas de contorno o contornos rellenos\n",
    "- `` imshow () ``: dibuja una imagen\n",
    "- `` pcolor () `` / `` pcolormesh () ``: Dibuja un diagrama de pseudocolor para mallas irregulares / regulares\n",
    "- `` plot () ``: Dibuja líneas y / o marcadores.\n",
    "- `` scatter () ``: Dibuja puntos con marcadores.\n",
    "- `` quiver () ``: Dibuja vectores.\n",
    "- `` barbs () ``: dibuja púas de viento.\n",
    "- `` drawgreatcircle () ``: Dibuja un gran círculo.\n",
    "\n",
    "Veremos algunos ejemplos de algunos de estos a medida que continuamos.\n",
    "Para obtener más información sobre estas funciones, incluidas varias parcelas de ejemplo, consulte la [documentación del mapa base en línea](http://matplotlib.org/basemap/)."
   ]
  },
  {
   "cell_type": "markdown",
   "metadata": {},
   "source": [
    "## Example: California Cities"
   ]
  },
  {
   "cell_type": "code",
   "execution_count": null,
   "metadata": {},
   "outputs": [],
   "source": [
    "import pandas as pd\n",
    "cities = pd.read_csv('data/california_cities.csv')\n",
    "\n",
    "# Extract the data we're interested in\n",
    "lat = cities['latd'].values\n",
    "lon = cities['longd'].values\n",
    "population = cities['population_total'].values\n",
    "area = cities['area_total_km2'].values"
   ]
  },
  {
   "cell_type": "markdown",
   "metadata": {},
   "source": [
    "A continuación, configuramos la proyección del mapa, dispersamos los datos y luego creamos una barra de colores y una leyenda:"
   ]
  },
  {
   "cell_type": "code",
   "execution_count": null,
   "metadata": {},
   "outputs": [],
   "source": [
    "# 1. Draw the map background\n",
    "fig = plt.figure(figsize=(8, 8))\n",
    "m = Basemap(projection='lcc', resolution='h', \n",
    "            lat_0=37.5, lon_0=-119,\n",
    "            width=1E6, height=1.2E6)\n",
    "m.shadedrelief()\n",
    "m.drawcoastlines(color='gray')\n",
    "m.drawcountries(color='gray')\n",
    "m.drawstates(color='gray')\n",
    "\n",
    "# 2. scatter city data, with color reflecting population\n",
    "# and size reflecting area\n",
    "m.scatter(lon, lat, latlon=True,\n",
    "          c=np.log10(population), s=area,\n",
    "          cmap='Reds', alpha=0.5)\n",
    "\n",
    "# 3. create colorbar and legend\n",
    "plt.colorbar(label=r'$\\log_{10}({\\rm population})$')\n",
    "plt.clim(3, 7)\n",
    "\n",
    "# make legend with dummy points\n",
    "for a in [100, 300, 500]:\n",
    "    plt.scatter([], [], c='k', alpha=0.5, s=a,\n",
    "                label=str(a) + ' km$^2$')\n",
    "plt.legend(scatterpoints=1, frameon=False,\n",
    "           labelspacing=1, loc='lower left');"
   ]
  },
  {
   "cell_type": "markdown",
   "metadata": {},
   "source": [
    "Esto nos muestra aproximadamente dónde se han establecido poblaciones más grandes de personas en California: se agrupan cerca de la costa en las áreas de Los Ángeles y San Francisco, se extienden a lo largo de las carreteras en el valle central plano y evitan casi por completo las regiones montañosas a lo largo de las fronteras de el estado."
   ]
  },
  {
   "cell_type": "markdown",
   "metadata": {},
   "source": [
    "## Example: Surface Temperature Data\n",
    "\n",
    "Como ejemplo de visualización de algunos datos geográficos más continuos, consideremos el \"vórtice polar\" que golpeó la mitad oriental de los Estados Unidos en enero de 2014.\n",
    "Una gran fuente para cualquier tipo de datos climáticos es [el Instituto Goddard de Estudios Espaciales de la NASA](http://data.giss.nasa.gov/).\n",
    "Aquí usaremos los datos de temperatura GIS 250, que podemos descargar usando comandos de shell (estos comandos pueden tener que modificarse en máquinas con Windows).\n",
    "Los datos utilizados aquí se descargaron el 12/06/2016 y el tamaño del archivo es de aproximadamente 9 MB:"
   ]
  },
  {
   "cell_type": "code",
   "execution_count": null,
   "metadata": {},
   "outputs": [],
   "source": [
    "# !curl -O http://data.giss.nasa.gov/pub/gistemp/gistemp250.nc.gz\n",
    "# !gunzip gistemp250.nc.gz"
   ]
  },
  {
   "cell_type": "markdown",
   "metadata": {},
   "source": [
    "Los datos vienen en formato NetCDF, que puede leerse en Python mediante la biblioteca `` netCDF4``.\n",
    "Puede instalar esta biblioteca como se muestra aquí\n",
    "\n",
    "`` `\n",
    "$ conda instalar netcdf4\n",
    "`` `\n",
    "\n",
    "Leemos los datos de la siguiente manera:"
   ]
  },
  {
   "cell_type": "code",
   "execution_count": null,
   "metadata": {},
   "outputs": [],
   "source": [
    "from netCDF4 import Dataset\n",
    "data = Dataset('gistemp250.nc')"
   ]
  },
  {
   "cell_type": "markdown",
   "metadata": {},
   "source": [
    "El archivo contiene muchas lecturas de temperatura global en una variedad de fechas; debemos seleccionar el índice de la fecha que nos interesa, en este caso, el 15 de enero de 2014:"
   ]
  },
  {
   "cell_type": "code",
   "execution_count": null,
   "metadata": {},
   "outputs": [],
   "source": [
    "from netCDF4 import date2index\n",
    "from datetime import datetime\n",
    "timeindex = date2index(datetime(2014, 1, 15),\n",
    "                       data.variables['time'])"
   ]
  },
  {
   "cell_type": "markdown",
   "metadata": {},
   "source": [
    "Ahora podemos cargar los datos de latitud y longitud, así como la anomalía de temperatura para este índice:"
   ]
  },
  {
   "cell_type": "code",
   "execution_count": null,
   "metadata": {},
   "outputs": [],
   "source": [
    "lat = data.variables['lat'][:]\n",
    "lon = data.variables['lon'][:]\n",
    "lon, lat = np.meshgrid(lon, lat)\n",
    "temp_anomaly = data.variables['tempanomaly'][timeindex]"
   ]
  },
  {
   "cell_type": "markdown",
   "metadata": {},
   "source": [
    "Finalmente, usaremos el método `` pcolormesh () `` para dibujar una malla de color de los datos.\n",
    "Miraremos a América del Norte y utilizaremos un mapa de relieve sombreado en el fondo.\n",
    "Tenga en cuenta que para estos datos elegimos específicamente un mapa de color divergente, que tiene un color neutro en cero y dos colores contrastantes en valores negativos y positivos.\n",
    "También dibujaremos ligeramente las costas sobre los colores como referencia:"
   ]
  },
  {
   "cell_type": "code",
   "execution_count": null,
   "metadata": {},
   "outputs": [],
   "source": [
    "fig = plt.figure(figsize=(10, 8))\n",
    "m = Basemap(projection='lcc', resolution='c',\n",
    "            width=8E6, height=8E6, \n",
    "            lat_0=45, lon_0=-100,)\n",
    "m.shadedrelief(scale=0.5)\n",
    "m.pcolormesh(lon, lat, temp_anomaly,\n",
    "             latlon=True, cmap='RdBu_r')\n",
    "plt.clim(-8, 8)\n",
    "m.drawcoastlines(color='lightgray')\n",
    "\n",
    "plt.title('January 2014 Temperature Anomaly')\n",
    "plt.colorbar(label='temperature anomaly (°C)');"
   ]
  },
  {
   "cell_type": "markdown",
   "metadata": {},
   "source": [
    "Los datos pintan una imagen de las anomalías localizadas de temperatura extrema que ocurrieron durante ese mes.\n",
    "La mitad oriental de los Estados Unidos era mucho más fría de lo normal, mientras que la mitad occidental y Alaska eran mucho más cálidos.\n",
    "Las regiones sin temperatura registrada muestran el fondo del mapa."
   ]
  }
 ],
 "metadata": {
  "kernelspec": {
   "display_name": "Python 3",
   "language": "python",
   "name": "python3"
  },
  "language_info": {
   "codemirror_mode": {
    "name": "ipython",
    "version": 3
   },
   "file_extension": ".py",
   "mimetype": "text/x-python",
   "name": "python",
   "nbconvert_exporter": "python",
   "pygments_lexer": "ipython3",
   "version": "3.7.4"
  }
 },
 "nbformat": 4,
 "nbformat_minor": 1
}
