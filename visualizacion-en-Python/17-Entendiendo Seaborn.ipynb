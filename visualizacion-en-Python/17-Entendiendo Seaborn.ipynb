{
 "cells": [
  {
   "cell_type": "markdown",
   "metadata": {},
   "source": [
    "# Entendiendo Seaborn\n",
    "\n",
    "Si está familiarizado con el lenguaje `R`, sabe que` ggplot` es un gran recurso para trazar datos e interpretarlos. Del mismo modo, en `Python`, la biblioteca equivalente es` matplotlib`. Sin embargo, la funcionalidad y la apariencia de los gráficos con matplotlib no son buenas y, como resultado, se necesita una mejor alternativa. Aquí es donde 'seaborn' interviene y roba el espectáculo."
   ]
  },
  {
   "cell_type": "markdown",
   "metadata": {},
   "source": [
    "## Importar datos\n",
    "\n",
    "Usaremos el dataset **California House Prices** dataset disponible en [Kaggle](https://www.kaggle.com/camnugent/california-housing-prices)."
   ]
  },
  {
   "cell_type": "code",
   "execution_count": null,
   "metadata": {},
   "outputs": [],
   "source": [
    "import pandas as pd\n",
    "\n",
    "dataset = pd.read_csv(\"data/housing.csv\")"
   ]
  },
  {
   "cell_type": "code",
   "execution_count": null,
   "metadata": {},
   "outputs": [],
   "source": [
    "print(\"Dataset: {}\".format(dataset.shape))\n",
    "print(\"Columns: {}\".format(dataset.columns))\n",
    "dataset.head(5)"
   ]
  },
  {
   "cell_type": "markdown",
   "metadata": {},
   "source": [
    "Hay ** 20640 filas ** con ** 10 columnas **. Podemos aprovechar los datasets y la valiosa información que esconden para trazar datos e inferir de ellos."
   ]
  },
  {
   "cell_type": "markdown",
   "metadata": {},
   "source": [
    "## Seaborn library\n",
    "\n",
    "Vamos a importar la biblioteca `seaborn` para comenzar."
   ]
  },
  {
   "cell_type": "code",
   "execution_count": null,
   "metadata": {},
   "outputs": [],
   "source": [
    "import matplotlib.pyplot as plt\n",
    "import seaborn as sns\n",
    "\n",
    "%matplotlib inline"
   ]
  },
  {
   "cell_type": "markdown",
   "metadata": {},
   "source": [
    "### Scatter plot\n",
    "\n",
    "Un diagrama de dispersión ayuda a describir una buena relación entre dos cantidades. Aquí, veamos la relación entre el número de habitaciones y el número de dormitorios."
   ]
  },
  {
   "cell_type": "code",
   "execution_count": null,
   "metadata": {},
   "outputs": [],
   "source": [
    "sns.scatterplot(x = 'total_rooms', y = 'total_bedrooms', data = dataset)"
   ]
  },
  {
   "cell_type": "markdown",
   "metadata": {},
   "source": [
    "Podemos ver una relación casi lineal entre `habitaciones` y` dormitorios`. Sin embargo, el trazado no es muy intuitivo. Hagamos esto más informativo y descriptivo."
   ]
  },
  {
   "cell_type": "code",
   "execution_count": null,
   "metadata": {},
   "outputs": [],
   "source": [
    "plt.figure(figsize = (12, 8))\n",
    "sns.scatterplot(data = dataset,\n",
    "               x = 'total_rooms', \n",
    "               y = 'total_bedrooms', \n",
    "               hue = 'ocean_proximity', \n",
    "               style = 'ocean_proximity')\n",
    "plt.title(\"California Rooms vs Bedrooms\")\n",
    "plt.xlabel(\"Total habitaciones\")\n",
    "plt.ylabel(\"Total dormitorios\")"
   ]
  },
  {
   "cell_type": "markdown",
   "metadata": {},
   "source": [
    "Como puede ver, hemos mejorado mucho el trazado. Basta informar para el parámetro `hue` la columna que va colorear los puntos. A continuación, el 'tono' proporciona diferentes colores basados en la columna categórica que define la proximidad al océano. La misma columna también nos ayuda a definir varios marcadores usando `style`. "
   ]
  },
  {
   "cell_type": "code",
   "execution_count": null,
   "metadata": {},
   "outputs": [],
   "source": [
    "sns.relplot(x='total_rooms', y='total_bedrooms', size='housing_median_age', sizes=(15,300), data=dataset)"
   ]
  },
  {
   "cell_type": "markdown",
   "metadata": {},
   "source": [
    "### Count Plot\n",
    "\n",
    "Las gráficas de conteo son una gran herramienta para describir información categórica. Por ejemplo, en este conjunto de datos podríamos ver cómo se distribuye el conjunto de datos en función de `ocean_proximity`."
   ]
  },
  {
   "cell_type": "code",
   "execution_count": null,
   "metadata": {},
   "outputs": [],
   "source": [
    "sns.countplot(x = 'ocean_proximity', data = dataset)"
   ]
  },
  {
   "cell_type": "markdown",
   "metadata": {},
   "source": [
    "Podemos ver cómo ya calcula el valor de cada columna y lo presenta como una barra. `<1H OCEAN` tiene el valor más alto, mientras que` ISLAND` es casi insignificante. Sin embargo, la gráfica no dice cuáles son los valores reales. Vamos a trazarlos y ver. Además, algo a tener en cuenta sobre el conjunto de datos es que no es muy descriptivo. Por ejemplo, el valor `<1H OCEAN` no describe lo que H significa aquí y tampoco los metadatos para este conjunto de datos."
   ]
  },
  {
   "cell_type": "code",
   "execution_count": null,
   "metadata": {},
   "outputs": [],
   "source": [
    "# https://matplotlib.org/api/_as_gen/matplotlib.pyplot.annotate.html\n",
    "\n",
    "plt.figure(figsize = (12, 8))\n",
    "ocean_plot = sns.countplot(x = 'ocean_proximity', data = dataset)\n",
    "for p in ocean_plot.patches:\n",
    "    ocean_plot.annotate(p.get_height(), \n",
    "                        (p.get_x() + p.get_width() / 2.0, \n",
    "                         p.get_height()), \n",
    "                        ha = 'center', \n",
    "                        va = 'center', \n",
    "                        xytext = (0, 5),\n",
    "                        textcoords = 'offset points')\n",
    "\n",
    "plt.title(\"Recuento de casas según su proximidad al océano.\")\n",
    "plt.xlabel(\"Proximidad al oceano\")\n",
    "plt.ylabel(\"Cantidad de viviendas\")"
   ]
  },
  {
   "cell_type": "code",
   "execution_count": null,
   "metadata": {},
   "outputs": [],
   "source": [
    "ocean_plot.patches"
   ]
  },
  {
   "cell_type": "markdown",
   "metadata": {},
   "source": [
    "### Histograms\n",
    "\n",
    "Los histogramas se parecen a los gráficos de barras, pero se utilizan para expresar valores continuos en contenedores separados. Describamos los precios medios de la vivienda en California y veamos cómo se ve. Lo bueno de `seaborn` es que tiene la gráfica de densidad incorporada en el histograma y se llama la gráfica` dist`."
   ]
  },
  {
   "cell_type": "code",
   "execution_count": null,
   "metadata": {},
   "outputs": [],
   "source": [
    "plt.figure(figsize = (12, 8))\n",
    "sns.distplot(a = dataset['median_house_value'], bins = 10, hist = True)\n",
    "plt.title(\"Density and histogram plot for Median house value\")\n",
    "plt.xlabel(\"Median house value\")\n",
    "plt.ylabel(\"Value\")"
   ]
  },
  {
   "cell_type": "markdown",
   "metadata": {},
   "source": [
    "Los datos se ven un poco sesgados hacia el lado izquierdo y se ven bastante **normales**. Sin embargo, al final, hay un pico inusual alrededor de 500,000."
   ]
  },
  {
   "cell_type": "markdown",
   "metadata": {},
   "source": [
    "Las graficas combinadas muestran que las casas en `ISLAND` son las más caras. Mientras que para todos los demás, el rango es bastante variado."
   ]
  },
  {
   "cell_type": "markdown",
   "metadata": {},
   "source": [
    "### Violin plot\n",
    "\n",
    "Los graficos de violín son similares a los de caja pero tienen en cuenta las densidades."
   ]
  },
  {
   "cell_type": "code",
   "execution_count": null,
   "metadata": {},
   "outputs": [],
   "source": [
    "plt.figure(figsize = (12, 8))\n",
    "sns.violinplot(x = 'ocean_proximity', y = 'median_house_value', data = dataset)\n",
    "plt.title(\"Box plots de los valores de las viviendas basados en la proximidad del oceano\")\n",
    "plt.xlabel(\"Proximidad del oceano\")\n",
    "plt.ylabel(\"Valor promedio de la vivienda\")"
   ]
  },
  {
   "cell_type": "markdown",
   "metadata": {},
   "source": [
    "En la gráfica anterior, podemos ver cómo se distribuyen las densidades para cada valor de proximidad del océano."
   ]
  },
  {
   "cell_type": "markdown",
   "metadata": {},
   "source": [
    "### Heatmap\n",
    "\n",
    "A veces solo necesita echar un vistazo a la correlación entre características y etiquetas. En tal caso, un mapa de calor que no solo menciona los valores, sino también el color basado en el valor de correlación, proporciona una excelente descripción. Intentemos trazar el mapa de calor para nuestro conjunto de datos."
   ]
  },
  {
   "cell_type": "code",
   "execution_count": null,
   "metadata": {},
   "outputs": [],
   "source": [
    "plt.figure(figsize = (12, 8))\n",
    "sns.heatmap(dataset.corr(), annot = True)"
   ]
  },
  {
   "cell_type": "markdown",
   "metadata": {},
   "source": [
    "Al observar el mapa de calor, podemos ver que `median_income` está altamente correlacionado con el` median_house_value`."
   ]
  },
  {
   "cell_type": "markdown",
   "metadata": {},
   "source": [
    "### Joint plot\n",
    "\n",
    "Un joint plot es un diagrama de dispersión con otras características. Nos muestra la distribución de los dos valores que estamos trazando junto con el diagrama de dispersión. Además, tiene una regresión integrada, que muestra una línea de regresión en los datos."
   ]
  },
  {
   "cell_type": "code",
   "execution_count": null,
   "metadata": {},
   "outputs": [],
   "source": [
    "sns.jointplot(x = \"total_rooms\", y = \"total_bedrooms\", data=dataset, kind=\"reg\", height = 8, color = 'g')\n",
    "plt.xlabel(\"Total habitaciones\")\n",
    "plt.ylabel(\"Total dormitorios\")"
   ]
  },
  {
   "cell_type": "markdown",
   "metadata": {},
   "source": [
    "### Box plots with swarm plots\n",
    "\n",
    "Los diagramas de caja proporcionan una buena manera de ver cómo se distribuyen los datos. Además, cuando combinamos la misma gráfica con gráficas de 'enjambre' que grafican puntos que no se superponen, se puede representar más información fácilmente."
   ]
  },
  {
   "cell_type": "code",
   "execution_count": null,
   "metadata": {},
   "outputs": [],
   "source": [
    "plt.figure(figsize = (12, 8))\n",
    "sns.boxplot(x = 'ocean_proximity', y = 'median_house_value', data = dataset)\n",
    "sns.swarmplot(x = 'ocean_proximity', y = 'median_house_value', data = dataset)\n",
    "plt.title(\"Box plots de los valores de las viviendas basadas en la proximidad del oceano\")\n",
    "plt.xlabel(\"Proximidad del Oceano\")\n",
    "plt.ylabel(\"Valor promedio de la casa\")"
   ]
  },
  {
   "cell_type": "markdown",
   "metadata": {},
   "source": [
    "### Pair plot\n",
    "\n",
    "El pairplot es una gráfico único proporcionado en seaborn. Cuando mostramos un pairplot para todo el conjunto de datos, traza la relación entre cada columna como un diagrama de dispersión y un histograma para la relación de cada columna consigo mismo. Es realmente genial mostrar mucha información en una sola colección de tramas"
   ]
  },
  {
   "cell_type": "code",
   "execution_count": null,
   "metadata": {},
   "outputs": [],
   "source": [
    "sns.pairplot(dataset)"
   ]
  }
 ],
 "metadata": {
  "kernelspec": {
   "display_name": "Python 3",
   "language": "python",
   "name": "python3"
  },
  "language_info": {
   "codemirror_mode": {
    "name": "ipython",
    "version": 3
   },
   "file_extension": ".py",
   "mimetype": "text/x-python",
   "name": "python",
   "nbconvert_exporter": "python",
   "pygments_lexer": "ipython3",
   "version": "3.7.4"
  }
 },
 "nbformat": 4,
 "nbformat_minor": 2
}
